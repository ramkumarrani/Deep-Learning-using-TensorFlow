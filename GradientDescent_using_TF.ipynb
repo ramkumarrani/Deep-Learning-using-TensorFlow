{
 "cells": [
  {
   "cell_type": "markdown",
   "metadata": {},
   "source": [
    "# Package inclusion"
   ]
  },
  {
   "cell_type": "code",
   "execution_count": 14,
   "metadata": {
    "collapsed": true
   },
   "outputs": [],
   "source": [
    "import tensorflow as tf\n",
    "import numpy as np\n",
    "import pandas as pd\n",
    "from sklearn.datasets import fetch_california_housing\n",
    "from sklearn.preprocessing import normalize"
   ]
  },
  {
   "cell_type": "markdown",
   "metadata": {},
   "source": [
    "# Data for the model"
   ]
  },
  {
   "cell_type": "code",
   "execution_count": 15,
   "metadata": {},
   "outputs": [],
   "source": [
    "housing = fetch_california_housing()\n",
    "m,n = housing.data.shape\n",
    "housing_data = normalize(np.c_[np.ones([m,1]), housing.data])"
   ]
  },
  {
   "cell_type": "markdown",
   "metadata": {},
   "source": [
    "# Parameter initialization"
   ]
  },
  {
   "cell_type": "code",
   "execution_count": 16,
   "metadata": {
    "collapsed": true
   },
   "outputs": [],
   "source": [
    "n_epochs=1000\n",
    "alpha=0.01"
   ]
  },
  {
   "cell_type": "markdown",
   "metadata": {},
   "source": [
    "# Tensorflow graph construction phase"
   ]
  },
  {
   "cell_type": "code",
   "execution_count": 17,
   "metadata": {
    "collapsed": true
   },
   "outputs": [],
   "source": [
    "X = tf.constant(housing_data, dtype=tf.float32, name=\"X\")\n",
    "y = tf.constant(housing.target.reshape(-1,1), dtype=tf.float32,name=\"y\")\n",
    "beta = tf.Variable(tf.random_uniform([n+1,1],-1,1), name=\"beta\")\n",
    "y_pred=tf.matmul(X, beta, name=\"predictions\")\n",
    "error = y_pred - y\n",
    "mse = tf.reduce_mean(tf.square(error), name=\"mse\")\n",
    "gradient = 2/m * tf.matmul(tf.transpose(X), error)\n",
    "train_ops = tf.assign(beta, beta - alpha*gradient)"
   ]
  },
  {
   "cell_type": "markdown",
   "metadata": {
    "collapsed": true
   },
   "source": [
    "# Tensorflow execution phase, display optimal coefficients"
   ]
  },
  {
   "cell_type": "code",
   "execution_count": 21,
   "metadata": {},
   "outputs": [
    {
     "name": "stdout",
     "output_type": "stream",
     "text": [
      "Epoch =  0  MSE=  9.90594\n",
      "Epoch =  100  MSE=  1.51061\n",
      "Epoch =  200  MSE=  1.34989\n",
      "Epoch =  300  MSE=  1.34585\n",
      "Epoch =  400  MSE=  1.34486\n",
      "Epoch =  500  MSE=  1.344\n",
      "Epoch =  600  MSE=  1.34319\n",
      "Epoch =  700  MSE=  1.34244\n",
      "Epoch =  800  MSE=  1.34174\n",
      "Epoch =  900  MSE=  1.34109\n",
      "*** Optimal beta:  [[ 0.25978094]\n",
      " [ 0.41872263]\n",
      " [-0.5183655 ]\n",
      " [ 0.31061795]\n",
      " [-0.34350577]\n",
      " [ 2.04572487]\n",
      " [-0.92283416]\n",
      " [ 1.06168985]\n",
      " [-0.27349666]]\n"
     ]
    }
   ],
   "source": [
    "init=tf.global_variables_initializer()\n",
    "\n",
    "with tf.Session() as sess:\n",
    "    sess.run(init)\n",
    "    \n",
    "    for epoch in range(n_epochs):\n",
    "        if epoch % 100 == 0:\n",
    "            print(\"Epoch = \", epoch, \" MSE= \", mse.eval())\n",
    "        sess.run(train_ops)\n",
    "    \n",
    "    optimal_beta = beta.eval()\n",
    "    print(\"*** Optimal beta: \", optimal_beta)"
   ]
  }
 ],
 "metadata": {
  "kernelspec": {
   "display_name": "Python 3",
   "language": "python",
   "name": "python3"
  },
  "language_info": {
   "codemirror_mode": {
    "name": "ipython",
    "version": 3
   },
   "file_extension": ".py",
   "mimetype": "text/x-python",
   "name": "python",
   "nbconvert_exporter": "python",
   "pygments_lexer": "ipython3",
   "version": "3.6.3"
  }
 },
 "nbformat": 4,
 "nbformat_minor": 2
}
